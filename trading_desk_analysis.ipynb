{
 "cells": [
  {
   "cell_type": "markdown",
   "id": "5eda2ed2",
   "metadata": {},
   "source": [
    "# FINM3422 Coding Project 2: OTC Derivatives Pricing & Hedging"
   ]
  },
  {
   "cell_type": "markdown",
   "id": "0c2f34e2",
   "metadata": {},
   "source": [
    "This notebook implements an object-oriented solution to price four OTC derivative trades and calculate portfolio-level hedging parameters. All data and valuations are as of close of market on **16 May 2025**."
   ]
  },
  {
   "cell_type": "markdown",
   "id": "259f6d07",
   "metadata": {},
   "source": [
    "## Imports and Setup"
   ]
  },
  {
   "cell_type": "code",
   "execution_count": null,
   "id": "120093e1",
   "metadata": {},
   "outputs": [],
   "source": [
    "from option_models.european import EuropeanOption\n",
    "from option_models.american import AmericanPutOption\n",
    "from option_models.barrier import UpAndInCallOption\n",
    "from option_models.basket import BasketCallOption\n",
    "from discount_curve import build_discount_curve\n",
    "from hedging import HedgingCalculator\n",
    "from data import get_all_market_data\n",
    "import pandas as pd"
   ]
  },
  {
   "cell_type": "markdown",
   "id": "071b11b1",
   "metadata": {},
   "source": [
    "## Market Data Inputs"
   ]
  },
  {
   "cell_type": "code",
   "execution_count": null,
   "id": "0d965b5f",
   "metadata": {},
   "outputs": [],
   "source": [
    "tickers = [\"BHP.AX\", \"CBA.AX\", \"WES.AX\", \"CSL.AX\", \"WDS.AX\", \"MQG.AX\"]\n",
    "market_data = get_all_market_data(tickers, date=\"2025-05-16\", window=60)\n",
    "\n",
    "spot = market_data[\"spot\"]\n",
    "vol = market_data[\"vol\"]\n",
    "corr = market_data[\"corr\"]"
   ]
  },
  {
   "cell_type": "markdown",
   "id": "5fb52ce8",
   "metadata": {},
   "source": [
    "## Discount Curve Construction"
   ]
  },
  {
   "cell_type": "code",
   "execution_count": null,
   "id": "41067c6e",
   "metadata": {},
   "outputs": [],
   "source": [
    "yield_curve = build_discount_curve()"
   ]
  },
  {
   "cell_type": "markdown",
   "id": "02ce7c57",
   "metadata": {},
   "source": [
    "## Trade 1: BHP European Call"
   ]
  },
  {
   "cell_type": "markdown",
   "id": "b28b120e",
   "metadata": {},
   "source": [
    "### Market Data"
   ]
  },
  {
   "cell_type": "code",
   "execution_count": null,
   "id": "de89ad04",
   "metadata": {},
   "outputs": [],
   "source": [
    "# spot = ..., vol = ..., strike = ..., expiry = ..., rate = ..."
   ]
  },
  {
   "cell_type": "markdown",
   "id": "3a347db2",
   "metadata": {},
   "source": [
    "### Discount Rate"
   ]
  },
  {
   "cell_type": "code",
   "execution_count": null,
   "id": "ec5fa399",
   "metadata": {},
   "outputs": [],
   "source": [
    "# rate = yield_curve.get_zero_rate(...)"
   ]
  },
  {
   "cell_type": "markdown",
   "id": "9bbbf70b",
   "metadata": {},
   "source": [
    "### Valuation Method"
   ]
  },
  {
   "cell_type": "code",
   "execution_count": null,
   "id": "d61fe9f1",
   "metadata": {},
   "outputs": [],
   "source": [
    "# Instantiate and price the option"
   ]
  },
  {
   "cell_type": "markdown",
   "id": "2b1bbe3a",
   "metadata": {},
   "source": [
    "### Hedging Parameters"
   ]
  },
  {
   "cell_type": "code",
   "execution_count": null,
   "id": "05a8c1fa",
   "metadata": {},
   "outputs": [],
   "source": [
    "# Use HedgingCalculator to get delta, gamma, vega, theta, rho"
   ]
  },
  {
   "cell_type": "markdown",
   "id": "e1fa0293",
   "metadata": {},
   "source": [
    "## Trade 2: CBA American Put"
   ]
  },
  {
   "cell_type": "markdown",
   "id": "89c5f547",
   "metadata": {},
   "source": [
    "### Market Data"
   ]
  },
  {
   "cell_type": "code",
   "execution_count": null,
   "id": "0e920bf7",
   "metadata": {},
   "outputs": [],
   "source": [
    "# spot = ..., vol = ..., strike = ..., expiry = ..., rate = ..."
   ]
  },
  {
   "cell_type": "markdown",
   "id": "e2037389",
   "metadata": {},
   "source": [
    "### Discount Rate"
   ]
  },
  {
   "cell_type": "code",
   "execution_count": null,
   "id": "e97a13ab",
   "metadata": {},
   "outputs": [],
   "source": [
    "# rate = yield_curve.get_zero_rate(...)"
   ]
  },
  {
   "cell_type": "markdown",
   "id": "2a0d4213",
   "metadata": {},
   "source": [
    "### Valuation Method"
   ]
  },
  {
   "cell_type": "code",
   "execution_count": null,
   "id": "91666e0a",
   "metadata": {},
   "outputs": [],
   "source": [
    "# Instantiate and price the option"
   ]
  },
  {
   "cell_type": "markdown",
   "id": "6d88f012",
   "metadata": {},
   "source": [
    "### Hedging Parameters"
   ]
  },
  {
   "cell_type": "code",
   "execution_count": null,
   "id": "e6dfbfe0",
   "metadata": {},
   "outputs": [],
   "source": [
    "# Use HedgingCalculator to get delta, gamma, vega, theta, rho"
   ]
  },
  {
   "cell_type": "markdown",
   "id": "19c4f6ed",
   "metadata": {},
   "source": [
    "## Trade 3: WES Barrier Call"
   ]
  },
  {
   "cell_type": "markdown",
   "id": "63726921",
   "metadata": {},
   "source": [
    "### Market Data"
   ]
  },
  {
   "cell_type": "code",
   "execution_count": null,
   "id": "7b4846eb",
   "metadata": {},
   "outputs": [],
   "source": [
    "# spot = ..., vol = ..., strike = ..., expiry = ..., rate = ..."
   ]
  },
  {
   "cell_type": "markdown",
   "id": "656bafbd",
   "metadata": {},
   "source": [
    "### Discount Rate"
   ]
  },
  {
   "cell_type": "code",
   "execution_count": null,
   "id": "aba81729",
   "metadata": {},
   "outputs": [],
   "source": [
    "# rate = yield_curve.get_zero_rate(...)"
   ]
  },
  {
   "cell_type": "markdown",
   "id": "1013acc0",
   "metadata": {},
   "source": [
    "### Valuation Method"
   ]
  },
  {
   "cell_type": "code",
   "execution_count": null,
   "id": "b67177dc",
   "metadata": {},
   "outputs": [],
   "source": [
    "# Instantiate and price the option"
   ]
  },
  {
   "cell_type": "markdown",
   "id": "2c4f8b3a",
   "metadata": {},
   "source": [
    "### Hedging Parameters"
   ]
  },
  {
   "cell_type": "code",
   "execution_count": null,
   "id": "9a3fc551",
   "metadata": {},
   "outputs": [],
   "source": [
    "# Use HedgingCalculator to get delta, gamma, vega, theta, rho"
   ]
  },
  {
   "cell_type": "markdown",
   "id": "db474794",
   "metadata": {},
   "source": [
    "## Trade 4: Basket Call"
   ]
  },
  {
   "cell_type": "markdown",
   "id": "adc32fcc",
   "metadata": {},
   "source": [
    "### Market Data"
   ]
  },
  {
   "cell_type": "code",
   "execution_count": null,
   "id": "eda11369",
   "metadata": {},
   "outputs": [],
   "source": [
    "# spot = ..., vol = ..., strike = ..., expiry = ..., rate = ..."
   ]
  },
  {
   "cell_type": "markdown",
   "id": "de807f25",
   "metadata": {},
   "source": [
    "### Discount Rate"
   ]
  },
  {
   "cell_type": "code",
   "execution_count": null,
   "id": "0624f071",
   "metadata": {},
   "outputs": [],
   "source": [
    "# rate = yield_curve.get_zero_rate(...)"
   ]
  },
  {
   "cell_type": "markdown",
   "id": "b98cbbbf",
   "metadata": {},
   "source": [
    "### Valuation Method"
   ]
  },
  {
   "cell_type": "code",
   "execution_count": null,
   "id": "218e1e87",
   "metadata": {},
   "outputs": [],
   "source": [
    "# Instantiate and price the option"
   ]
  },
  {
   "cell_type": "markdown",
   "id": "082b944a",
   "metadata": {},
   "source": [
    "### Hedging Parameters"
   ]
  },
  {
   "cell_type": "code",
   "execution_count": null,
   "id": "8cee0baa",
   "metadata": {},
   "outputs": [],
   "source": [
    "# Use HedgingCalculator to get delta, gamma, vega, theta, rho"
   ]
  },
  {
   "cell_type": "markdown",
   "id": "096b089b",
   "metadata": {},
   "source": [
    "## Portfolio Valuation and Hedging Summary"
   ]
  },
  {
   "cell_type": "code",
   "execution_count": null,
   "id": "c1d8ac63",
   "metadata": {},
   "outputs": [],
   "source": [
    "# Collect all option prices and Greek exposures into summary DataFrame\n",
    "# Sum portfolio value and Greek sensitivities"
   ]
  },
  {
   "cell_type": "markdown",
   "id": "4a08fc10",
   "metadata": {},
   "source": [
    "## Design and Model Justification"
   ]
  },
  {
   "cell_type": "markdown",
   "id": "ff572b8b",
   "metadata": {},
   "source": [
    "- Why Black-Scholes, Binomial Tree, and Monte Carlo were chosen\n",
    "- Why finite difference for Greeks\n",
    "- Why the bump sizes used\n",
    "- Accuracy vs flexibility trade-offs"
   ]
  },
  {
   "cell_type": "markdown",
   "id": "f438573d",
   "metadata": {},
   "source": [
    "## Conclusion"
   ]
  },
  {
   "cell_type": "markdown",
   "id": "2a8defe1",
   "metadata": {},
   "source": [
    "- Modular, OOP-driven pricing system\n",
    "- Accurate pricing and hedging of diverse OTC trades\n",
    "- Integration of real market data and theory"
   ]
  }
 ],
 "metadata": {},
 "nbformat": 4,
 "nbformat_minor": 5
}
