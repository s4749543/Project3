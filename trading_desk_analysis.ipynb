{
 "cells": [
  {
   "cell_type": "markdown",
   "id": "5eda2ed2",
   "metadata": {},
   "source": [
    "# FINM3422 Coding Project 2: OTC Derivatives Pricing & Hedging"
   ]
  },
  {
   "cell_type": "markdown",
   "id": "0c2f34e2",
   "metadata": {},
   "source": [
    "This notebook implements an object-oriented solution to price four OTC derivative trades and calculate portfolio-level hedging parameters. All data and valuations are as of close of market on **16 May 2025**. (update this text, add anything else? Introduce task)"
   ]
  },
  {
   "cell_type": "markdown",
   "id": "259f6d07",
   "metadata": {},
   "source": [
    "## Imports and Setup"
   ]
  },
  {
   "cell_type": "code",
   "execution_count": 4,
   "id": "120093e1",
   "metadata": {},
   "outputs": [],
   "source": [
    "from Option_Classes import EuropeanOption\n",
    "from Option_Classes import AmericanPutOption\n",
    "from Option_Classes import UpAndInCallOption\n",
    "from Option_Classes import BasketCallOption\n",
    "from Hedging_Parameters import HedgingCalculator\n",
    "from market_data import get_close_price\n",
    "from market_data import get_volatility\n",
    "from market_data import get_correlation_matrix\n",
    "from market_data import get_all_market_data\n",
    "import pandas as pd\n",
    "from datetime import datetime, timedelta\n",
    "import yfinance as yf\n",
    "import importlib\n",
    "from simple_discount_curve import get_discount_rate\n",
    "from simple_discount_curve import get_discount_factor"
   ]
  },
  {
   "cell_type": "markdown",
   "id": "071b11b1",
   "metadata": {},
   "source": [
    "## Market Data Inputs"
   ]
  },
  {
   "cell_type": "code",
   "execution_count": 5,
   "id": "0d965b5f",
   "metadata": {},
   "outputs": [
    {
     "name": "stdout",
     "output_type": "stream",
     "text": [
      "YF.download() has changed argument auto_adjust default to True\n"
     ]
    },
    {
     "name": "stderr",
     "output_type": "stream",
     "text": [
      "[*********************100%***********************]  1 of 1 completed\n",
      "[*********************100%***********************]  1 of 1 completed\n",
      "[*********************100%***********************]  1 of 1 completed\n",
      "[*********************100%***********************]  1 of 1 completed\n",
      "[*********************100%***********************]  1 of 1 completed\n",
      "[*********************100%***********************]  1 of 1 completed\n"
     ]
    },
    {
     "ename": "TypeError",
     "evalue": "get_volatility() got multiple values for argument 'end_date'",
     "output_type": "error",
     "traceback": [
      "\u001b[31m---------------------------------------------------------------------------\u001b[39m",
      "\u001b[31mTypeError\u001b[39m                                 Traceback (most recent call last)",
      "\u001b[36mCell\u001b[39m\u001b[36m \u001b[39m\u001b[32mIn[5]\u001b[39m\u001b[32m, line 2\u001b[39m\n\u001b[32m      1\u001b[39m tickers = [\u001b[33m\"\u001b[39m\u001b[33mBHP.AX\u001b[39m\u001b[33m\"\u001b[39m, \u001b[33m\"\u001b[39m\u001b[33mCBA.AX\u001b[39m\u001b[33m\"\u001b[39m, \u001b[33m\"\u001b[39m\u001b[33mWES.AX\u001b[39m\u001b[33m\"\u001b[39m, \u001b[33m\"\u001b[39m\u001b[33mCSL.AX\u001b[39m\u001b[33m\"\u001b[39m, \u001b[33m\"\u001b[39m\u001b[33mWDS.AX\u001b[39m\u001b[33m\"\u001b[39m, \u001b[33m\"\u001b[39m\u001b[33mMQG.AX\u001b[39m\u001b[33m\"\u001b[39m]\n\u001b[32m----> \u001b[39m\u001b[32m2\u001b[39m market_data = \u001b[43mget_all_market_data\u001b[49m\u001b[43m(\u001b[49m\u001b[43mtickers\u001b[49m\u001b[43m,\u001b[49m\u001b[43m \u001b[49m\u001b[43mdate\u001b[49m\u001b[43m=\u001b[49m\u001b[33;43m\"\u001b[39;49m\u001b[33;43m2025-05-16\u001b[39;49m\u001b[33;43m\"\u001b[39;49m\u001b[43m,\u001b[49m\u001b[43m \u001b[49m\u001b[43mwindow\u001b[49m\u001b[43m=\u001b[49m\u001b[32;43m60\u001b[39;49m\u001b[43m)\u001b[49m\n\u001b[32m      4\u001b[39m spot = market_data[\u001b[33m\"\u001b[39m\u001b[33mspot\u001b[39m\u001b[33m\"\u001b[39m]\n\u001b[32m      5\u001b[39m vol = market_data[\u001b[33m\"\u001b[39m\u001b[33mvol\u001b[39m\u001b[33m\"\u001b[39m]\n",
      "\u001b[36mFile \u001b[39m\u001b[32m/workspaces/Project3Test/market_data.py:56\u001b[39m, in \u001b[36mget_all_market_data\u001b[39m\u001b[34m(tickers, date, window)\u001b[39m\n\u001b[32m     54\u001b[39m \u001b[38;5;28;01mdef\u001b[39;00m\u001b[38;5;250m \u001b[39m\u001b[34mget_all_market_data\u001b[39m(tickers, date, window=\u001b[32m60\u001b[39m):\n\u001b[32m     55\u001b[39m     spot_prices = {ticker: get_close_price(ticker, date) \u001b[38;5;28;01mfor\u001b[39;00m ticker \u001b[38;5;129;01min\u001b[39;00m tickers}\n\u001b[32m---> \u001b[39m\u001b[32m56\u001b[39m     volatilities = {ticker: \u001b[43mget_volatility\u001b[49m\u001b[43m(\u001b[49m\u001b[43mticker\u001b[49m\u001b[43m,\u001b[49m\u001b[43m \u001b[49m\u001b[43mwindow\u001b[49m\u001b[43m,\u001b[49m\u001b[43m \u001b[49m\u001b[43mend_date\u001b[49m\u001b[43m=\u001b[49m\u001b[43mdate\u001b[49m\u001b[43m)\u001b[49m \u001b[38;5;28;01mfor\u001b[39;00m ticker \u001b[38;5;129;01min\u001b[39;00m tickers}\n\u001b[32m     57\u001b[39m     correlation_matrix = get_correlation_matrix(tickers, window, end_date=date)\n\u001b[32m     58\u001b[39m     \u001b[38;5;28;01mreturn\u001b[39;00m {\n\u001b[32m     59\u001b[39m         \u001b[33m\"\u001b[39m\u001b[33mspot\u001b[39m\u001b[33m\"\u001b[39m: spot_prices,\n\u001b[32m     60\u001b[39m         \u001b[33m\"\u001b[39m\u001b[33mvol\u001b[39m\u001b[33m\"\u001b[39m: volatilities,\n\u001b[32m     61\u001b[39m         \u001b[33m\"\u001b[39m\u001b[33mcorr\u001b[39m\u001b[33m\"\u001b[39m: correlation_matrix\n\u001b[32m     62\u001b[39m     }\n",
      "\u001b[31mTypeError\u001b[39m: get_volatility() got multiple values for argument 'end_date'"
     ]
    }
   ],
   "source": [
    "tickers = [\"BHP.AX\", \"CBA.AX\", \"WES.AX\", \"CSL.AX\", \"WDS.AX\", \"MQG.AX\"]\n",
    "market_data = get_all_market_data(tickers, date=\"2025-05-16\", window=60)\n",
    "\n",
    "spot = market_data[\"spot\"]\n",
    "vol = market_data[\"vol\"]\n",
    "corr = market_data[\"corr\"]\n",
    "\n",
    "## broken asf atm"
   ]
  },
  {
   "cell_type": "markdown",
   "id": "5fb52ce8",
   "metadata": {},
   "source": [
    "## Discount Curve Construction"
   ]
  },
  {
   "cell_type": "markdown",
   "id": "26737293",
   "metadata": {},
   "source": [
    "do we build discount curve in the .ipynb file, or can we just produce the discount rates in the .py file? fix with the new discount curve file"
   ]
  },
  {
   "cell_type": "code",
   "execution_count": null,
   "id": "41067c6e",
   "metadata": {},
   "outputs": [],
   "source": [
    "\n",
    "# This module builds a discount curve from bank bills and bonds, and provides functions to retrieve discount factors and zero rates\n",
    "from junk.instrument_classes import Bank_bill, Bond, Portfolio\n",
    "from curve_classes_and_functions import YieldCurve\n",
    "\n",
    "# Builds bootstrapped discount curve from bank bills and bonds. \n",
    "\n",
    "def build_discount_curve():\n",
    "    # Step 1: Create instruments. Data pulled from Bloomberg. \n",
    "    bill1 = Bank_bill(face_value=100, maturity=0.25, price=98.5)\n",
    "    bill2 = Bank_bill(face_value=100, maturity=0.5, price=97.3)\n",
    "    bill1.set_cash_flows()\n",
    "    bill2.set_cash_flows()\n",
    "\n",
    "    bond1 = Bond(face_value=100, maturity=1.0, coupon=0.04, frequency=4, price=99.2)\n",
    "    bond2 = Bond(face_value=100, maturity=2.0, coupon=0.045, frequency=4, price=98.7)\n",
    "    bond3 = Bond(face_value=100, maturity=3.0, coupon=0.05, frequency=4, price=97.0)\n",
    "    bond1.set_cash_flows()\n",
    "    bond2.set_cash_flows()\n",
    "    bond3.set_cash_flows()\n",
    "\n",
    "    # Step 2: Add to portfolio\n",
    "    portfolio = Portfolio()\n",
    "    portfolio.add_bank_bill(bill1)\n",
    "    portfolio.add_bank_bill(bill2)\n",
    "    portfolio.add_bond(bond1)\n",
    "    portfolio.add_bond(bond2)\n",
    "    portfolio.add_bond(bond3)\n",
    "    portfolio.set_cash_flows()\n",
    "\n",
    "    # Step 3: Bootstrap yield curve\n",
    "    yc = YieldCurve()\n",
    "    yc.set_constituent_portfolio(portfolio)\n",
    "    yc.bootstrap()\n",
    "\n",
    "    return yc\n",
    "\n",
    "# Retrieves the discount factor for a given maturity from the bootstrapped yield curve\n",
    "def get_discount_factor(yield_curve, maturity):\n",
    "    return yield_curve.get_discount_factor(maturity)\n",
    "\n",
    "# Returns the interpolated zero rate for a given maturity from the yield curve\n",
    "def get_zero_rate(yield_curve, maturity):\n",
    "    return yield_curve.get_zero_rate(maturity)\n"
   ]
  },
  {
   "cell_type": "markdown",
   "id": "02ce7c57",
   "metadata": {},
   "source": [
    "## Trade 1: BHP European Call"
   ]
  },
  {
   "cell_type": "markdown",
   "id": "36eb0cef",
   "metadata": {},
   "source": [
    "description of the trade"
   ]
  },
  {
   "cell_type": "markdown",
   "id": "b28b120e",
   "metadata": {},
   "source": [
    "### Market Data"
   ]
  },
  {
   "cell_type": "code",
   "execution_count": 41,
   "id": "de89ad04",
   "metadata": {},
   "outputs": [
    {
     "name": "stderr",
     "output_type": "stream",
     "text": [
      "[*********************100%***********************]  1 of 1 completed\n",
      "[*********************100%***********************]  1 of 1 completed"
     ]
    },
    {
     "name": "stdout",
     "output_type": "stream",
     "text": [
      "Spot Price: 39.720001220703125, Volatility: 0.29673778004012413, Strike Price: 38.925601196289065, Expiry: 2.334246575342466 years\n"
     ]
    },
    {
     "name": "stderr",
     "output_type": "stream",
     "text": [
      "\n"
     ]
    }
   ],
   "source": [
    "# Extract relevant data for option pricing and hedging\n",
    "ticker = \"BHP.AX\"\n",
    "date = \"2025-05-16\"\n",
    "\n",
    "spot_bhp = get_close_price(ticker, date) #good\n",
    "vol_bhp = get_volatility(ticker, end_date=date, window=60) #good\n",
    "strike_bhp = 0.98 * spot_bhp\n",
    "\n",
    "def time_to_expiry(start, end):\n",
    "    return (end - start).days / 365.0\n",
    "\n",
    "expiry_bhp = time_to_expiry(datetime(2025, 5, 16), datetime(2027, 9, 15)) # 2.33 Years\n",
    "\n",
    "\n",
    "\n",
    "print(f\"Spot Price: {spot_bhp}, Volatility: {vol_bhp}, Strike Price: {strike_bhp}, Expiry: {expiry_bhp} years\")\n",
    "\n",
    "\n",
    "## remove the extra shit and make scalars, also build so that it extracts only the correlation matrix?"
   ]
  },
  {
   "cell_type": "markdown",
   "id": "3a347db2",
   "metadata": {},
   "source": [
    "### Discount Rate"
   ]
  },
  {
   "cell_type": "code",
   "execution_count": null,
   "id": "ec5fa399",
   "metadata": {},
   "outputs": [
    {
     "name": "stdout",
     "output_type": "stream",
     "text": [
      "0.05592461897265064\n"
     ]
    }
   ],
   "source": [
    "# Given the time to expiry, find the discount factor and zero rate\n",
    "rate_bhp = get_discount_rate(expiry_bhp)  # good\n",
    "print(rate_bhp)\n"
   ]
  },
  {
   "cell_type": "markdown",
   "id": "9bbbf70b",
   "metadata": {},
   "source": [
    "### Valuation"
   ]
  },
  {
   "cell_type": "code",
   "execution_count": 43,
   "id": "d61fe9f1",
   "metadata": {},
   "outputs": [
    {
     "name": "stdout",
     "output_type": "stream",
     "text": [
      "Option Price: 9.75947958252221\n"
     ]
    }
   ],
   "source": [
    "# Instantiate and price the option\n",
    "bhp_option = EuropeanOption(ticker=ticker,spot=spot_bhp, strike=strike_bhp, expiry=expiry_bhp, rate=rate_bhp, vol=vol_bhp, option_type=\"call\")\n",
    "\n",
    "print(f\"Option Price: {bhp_option.price()}\")\n"
   ]
  },
  {
   "cell_type": "markdown",
   "id": "2c65199a",
   "metadata": {},
   "source": [
    "### Visualisation"
   ]
  },
  {
   "cell_type": "code",
   "execution_count": null,
   "id": "1e1a2b79",
   "metadata": {},
   "outputs": [],
   "source": []
  },
  {
   "cell_type": "markdown",
   "id": "2b1bbe3a",
   "metadata": {},
   "source": [
    "### Hedging Parameters"
   ]
  },
  {
   "cell_type": "code",
   "execution_count": 45,
   "id": "05a8c1fa",
   "metadata": {},
   "outputs": [
    {
     "name": "stdout",
     "output_type": "stream",
     "text": [
      "Greeks for BHP Option:\n",
      "delta: 0.7119820658759934\n",
      "gamma: 0.01894765336629689\n",
      "vega: 20.704382251783393\n",
      "theta: 2.352667822942479\n",
      "rho: 43.2312951431868\n"
     ]
    }
   ],
   "source": [
    "# Use HedgingCalculator to get delta, gamma, vega, theta, rho\n",
    "\n",
    "hc = HedgingCalculator()\n",
    "greeks_bhp = hc.get_all_greeks(bhp_option, method=\"fd\")\n",
    "\n",
    "print(\"Greeks for BHP Option:\")\n",
    "for greek, value in greeks_bhp.items():\n",
    "    print(f\"{greek}: {value}\")\n",
    "\n",
    "\n",
    "\n"
   ]
  },
  {
   "cell_type": "markdown",
   "id": "106e0033",
   "metadata": {},
   "source": [
    "### Hedging Strategy"
   ]
  },
  {
   "cell_type": "markdown",
   "id": "e1fa0293",
   "metadata": {},
   "source": [
    "## Trade 2: CBA American Put"
   ]
  },
  {
   "cell_type": "markdown",
   "id": "b638201c",
   "metadata": {},
   "source": [
    "description of the trade"
   ]
  },
  {
   "cell_type": "markdown",
   "id": "89c5f547",
   "metadata": {},
   "source": [
    "### Market Data"
   ]
  },
  {
   "cell_type": "code",
   "execution_count": 46,
   "id": "0e920bf7",
   "metadata": {},
   "outputs": [
    {
     "name": "stderr",
     "output_type": "stream",
     "text": [
      "[*********************100%***********************]  1 of 1 completed"
     ]
    },
    {
     "name": "stderr",
     "output_type": "stream",
     "text": [
      "\n",
      "[*********************100%***********************]  1 of 1 completed"
     ]
    },
    {
     "name": "stdout",
     "output_type": "stream",
     "text": [
      "Spot Price: 169.66000366210938, Volatility: 0.26622126099171345, Strike Price: 170.0, Expiry: 0.9972602739726028 years\n"
     ]
    },
    {
     "name": "stderr",
     "output_type": "stream",
     "text": [
      "\n"
     ]
    }
   ],
   "source": [
    "ticker_cba = \"CBA.AX\"\n",
    "date = \"2025-05-16\"\n",
    "\n",
    "spot_cba = get_close_price(ticker_cba, date) #good\n",
    "vol_cba = get_volatility(ticker_cba, end_date=date, window=60) #good\n",
    "strike_cba = 170.00\n",
    "\n",
    "def time_to_expiry(start, end):\n",
    "    return (end - start).days / 365.0\n",
    "\n",
    "expiry_cba = time_to_expiry(datetime(2025, 5, 16), datetime(2026, 5, 15)) # 1 Year\n",
    "\n",
    "\n",
    "print(f\"Spot Price: {spot_cba}, Volatility: {vol_cba}, Strike Price: {strike_cba}, Expiry: {expiry_cba} years\")"
   ]
  },
  {
   "cell_type": "markdown",
   "id": "e2037389",
   "metadata": {},
   "source": [
    "### Discount Rate"
   ]
  },
  {
   "cell_type": "code",
   "execution_count": 47,
   "id": "e97a13ab",
   "metadata": {},
   "outputs": [
    {
     "name": "stdout",
     "output_type": "stream",
     "text": [
      "Rate for CBA Option: 0.04920549734846802\n"
     ]
    }
   ],
   "source": [
    "# Instantiate and price the option\n",
    "rate_cba = get_discount_rate(expiry_cba)  # good\n",
    "print(f\"Rate for CBA Option: {rate_cba}\")"
   ]
  },
  {
   "cell_type": "markdown",
   "id": "2a0d4213",
   "metadata": {},
   "source": [
    "### Valuation"
   ]
  },
  {
   "cell_type": "code",
   "execution_count": 48,
   "id": "91666e0a",
   "metadata": {},
   "outputs": [
    {
     "name": "stdout",
     "output_type": "stream",
     "text": [
      "Option Price: 14.75904004063862\n"
     ]
    }
   ],
   "source": [
    "# Instantiate and price the option\n",
    "cba_option = AmericanPutOption(ticker=ticker_cba, spot=spot_cba, strike=strike_cba, expiry=expiry_cba, rate=rate_cba, vol=vol_cba, option_type=\"put\", steps=100)\n",
    "print(f\"Option Price: {cba_option.price()}\")"
   ]
  },
  {
   "cell_type": "markdown",
   "id": "181f3842",
   "metadata": {},
   "source": [
    "### Visualisation"
   ]
  },
  {
   "cell_type": "markdown",
   "id": "6d88f012",
   "metadata": {},
   "source": [
    "### Hedging Parameters"
   ]
  },
  {
   "cell_type": "code",
   "execution_count": 49,
   "id": "e6dfbfe0",
   "metadata": {},
   "outputs": [
    {
     "name": "stdout",
     "output_type": "stream",
     "text": [
      "Greeks for CBA Option:\n",
      "delta: -0.4383388487205764\n",
      "gamma: 3.552713678800501e-11\n",
      "vega: 64.27162179080375\n",
      "theta: 5.763751711450759\n",
      "rho: -57.267451487659216\n"
     ]
    }
   ],
   "source": [
    "# Use HedgingCalculator to get delta, gamma, vega, theta, rho\n",
    "hc = HedgingCalculator()\n",
    "greeks_cba = hc.get_all_greeks(cba_option, method=\"fd\")\n",
    "\n",
    "print(\"Greeks for CBA Option:\")\n",
    "for greek, value in greeks_cba.items():\n",
    "    print(f\"{greek}: {value}\")"
   ]
  },
  {
   "cell_type": "markdown",
   "id": "509fda26",
   "metadata": {},
   "source": [
    "### Hedging Strategy"
   ]
  },
  {
   "cell_type": "markdown",
   "id": "19c4f6ed",
   "metadata": {},
   "source": [
    "## Trade 3: WES Barrier Call"
   ]
  },
  {
   "cell_type": "markdown",
   "id": "157617df",
   "metadata": {},
   "source": [
    "description of the trade"
   ]
  },
  {
   "cell_type": "markdown",
   "id": "63726921",
   "metadata": {},
   "source": [
    "### Market Data"
   ]
  },
  {
   "cell_type": "code",
   "execution_count": 50,
   "id": "7b4846eb",
   "metadata": {},
   "outputs": [
    {
     "name": "stderr",
     "output_type": "stream",
     "text": [
      "[*********************100%***********************]  1 of 1 completed"
     ]
    },
    {
     "name": "stderr",
     "output_type": "stream",
     "text": [
      "\n",
      "[*********************100%***********************]  1 of 1 completed"
     ]
    },
    {
     "name": "stdout",
     "output_type": "stream",
     "text": [
      "Spot Price: 82.55999755859375, Volatility: 0.21930636472137627, Strike Price: 80, Expiry: 2.334246575342466 years, Barrier: 100\n"
     ]
    },
    {
     "name": "stderr",
     "output_type": "stream",
     "text": [
      "\n"
     ]
    }
   ],
   "source": [
    "ticker_wes = \"WES.AX\"\n",
    "date = \"2025-05-16\"\n",
    "\n",
    "spot_wes = get_close_price(ticker_wes, date) #good\n",
    "vol_wes = get_volatility(ticker_wes, end_date=date, window=60) #good\n",
    "strike_wes = 80\n",
    "barrier_wes = 100\n",
    "\n",
    "def time_to_expiry(start, end):\n",
    "    return (end - start).days / 365.0\n",
    "\n",
    "expiry_wes = time_to_expiry(datetime(2025, 5, 16), datetime(2027, 9, 15)) # 2.33 Years\n",
    "\n",
    "print(f\"Spot Price: {spot_wes}, Volatility: {vol_wes}, Strike Price: {strike_wes}, Expiry: {expiry_wes} years, Barrier: {barrier_wes}\")"
   ]
  },
  {
   "cell_type": "markdown",
   "id": "656bafbd",
   "metadata": {},
   "source": [
    "### Discount Rate"
   ]
  },
  {
   "cell_type": "code",
   "execution_count": 51,
   "id": "aba81729",
   "metadata": {},
   "outputs": [
    {
     "name": "stdout",
     "output_type": "stream",
     "text": [
      "Rate for WES Option: 0.05592461897265064\n"
     ]
    }
   ],
   "source": [
    "rate_wes = get_discount_rate(expiry_wes) \n",
    "print(f\"Rate for WES Option: {rate_wes}\")"
   ]
  },
  {
   "cell_type": "markdown",
   "id": "1013acc0",
   "metadata": {},
   "source": [
    "### Valuation"
   ]
  },
  {
   "cell_type": "code",
   "execution_count": 52,
   "id": "b67177dc",
   "metadata": {},
   "outputs": [
    {
     "name": "stdout",
     "output_type": "stream",
     "text": [
      "Option Price: 16.755162109025306\n"
     ]
    }
   ],
   "source": [
    "# Instantiate and price the option\n",
    "wes_option = UpAndInCallOption(ticker=ticker_wes, spot=spot_wes, strike=strike_wes, expiry=expiry_wes, rate=rate_wes, vol=vol_wes, barrier=barrier_wes, simulations=10000,steps=252)\n",
    "print(f\"Option Price: {wes_option.price()}\")\n"
   ]
  },
  {
   "cell_type": "markdown",
   "id": "b34d3d6f",
   "metadata": {},
   "source": [
    "### Visualisation"
   ]
  },
  {
   "cell_type": "code",
   "execution_count": null,
   "id": "95276ade",
   "metadata": {},
   "outputs": [],
   "source": []
  },
  {
   "cell_type": "markdown",
   "id": "2c4f8b3a",
   "metadata": {},
   "source": [
    "### Hedging Parameters"
   ]
  },
  {
   "cell_type": "code",
   "execution_count": 54,
   "id": "9a3fc551",
   "metadata": {},
   "outputs": [
    {
     "name": "stdout",
     "output_type": "stream",
     "text": [
      "Greeks for WES Option:\n",
      "delta: 8.152602397938935\n",
      "gamma: 9028.002068442973\n",
      "vega: 50.047780201412984\n",
      "theta: 124.95893871636082\n",
      "rho: -50.77610915671826\n"
     ]
    }
   ],
   "source": [
    "# Use HedgingCalculator to get delta, gamma, vega, theta, rho\n",
    "hc = HedgingCalculator()\n",
    "greeks_wes = hc.get_all_greeks(wes_option, method=\"fd\")\n",
    "\n",
    "print(\"Greeks for WES Option:\")\n",
    "for greek, value in greeks_wes.items():\n",
    "    print(f\"{greek}: {value}\")"
   ]
  },
  {
   "cell_type": "markdown",
   "id": "6c9ee4a1",
   "metadata": {},
   "source": [
    "### Hedging Strategy"
   ]
  },
  {
   "cell_type": "markdown",
   "id": "db474794",
   "metadata": {},
   "source": [
    "## Trade 4: Basket Call"
   ]
  },
  {
   "cell_type": "markdown",
   "id": "4b155e18",
   "metadata": {},
   "source": [
    "description of the trade"
   ]
  },
  {
   "cell_type": "markdown",
   "id": "adc32fcc",
   "metadata": {},
   "source": [
    "### Market Data"
   ]
  },
  {
   "cell_type": "code",
   "execution_count": 55,
   "id": "eda11369",
   "metadata": {},
   "outputs": [
    {
     "name": "stderr",
     "output_type": "stream",
     "text": [
      "[*********************100%***********************]  1 of 1 completed"
     ]
    },
    {
     "name": "stderr",
     "output_type": "stream",
     "text": [
      "\n",
      "[*********************100%***********************]  1 of 1 completed\n",
      "[*********************100%***********************]  1 of 1 completed\n",
      "[*********************100%***********************]  1 of 1 completed\n",
      "[*********************100%***********************]  1 of 1 completed\n",
      "[*********************100%***********************]  1 of 1 completed\n",
      "[*********************100%***********************]  1 of 1 completed\n",
      "[*********************100%***********************]  1 of 1 completed\n"
     ]
    },
    {
     "name": "stdout",
     "output_type": "stream",
     "text": [
      "Spot prices: [39.720001220703125, 241.82000732421875, 21.920000076293945, 207.35000610351562]\n",
      "Volatilities: [0.29673778004012413, 0.2645795058608444, 0.40561362662594136, 0.3774390594028384]\n",
      "Strike: 175.0, Expiry: 0.17 yrs\n",
      "Ticker    BHP.AX    CSL.AX    MQG.AX    WDS.AX\n",
      "Ticker                                        \n",
      "BHP.AX  1.000000  0.451883  0.444790  0.549149\n",
      "CSL.AX  0.451883  1.000000  0.450133  0.407607\n",
      "MQG.AX  0.444790  0.450133  1.000000  0.647139\n",
      "WDS.AX  0.549149  0.407607  0.647139  1.000000\n"
     ]
    }
   ],
   "source": [
    "# Basket Call Option Inputs\n",
    "tickers_basket = [\"BHP.AX\", \"CSL.AX\", \"WDS.AX\", \"MQG.AX\"]\n",
    "date = \"2025-05-16\"\n",
    "spot = {ticker: get_close_price(ticker, date) for ticker in tickers_basket}\n",
    "vol = {ticker: get_volatility(ticker, end_date=date, window=60) for ticker in tickers_basket}\n",
    "spot_basket = [spot[t] for t in tickers_basket]\n",
    "vol_basket = [vol[t] for t in tickers_basket]\n",
    "basket_corr = get_correlation_matrix(tickers_basket, window=60, end_date=date)\n",
    "weights = [0.10, 0.35, 0.15, 0.40]\n",
    "strike_basket = 175.0\n",
    "\n",
    "from datetime import datetime\n",
    "expiry_basket = time_to_expiry(datetime(2025, 5, 16), datetime(2025, 7, 17))\n",
    "\n",
    "print(\"Spot prices:\", spot_basket)\n",
    "print(\"Volatilities:\", vol_basket)\n",
    "print(f\"Strike: {strike_basket}, Expiry: {expiry_basket:.2f} yrs\")\n",
    "print(basket_corr)\n"
   ]
  },
  {
   "cell_type": "markdown",
   "id": "de807f25",
   "metadata": {},
   "source": [
    "### Discount Rate"
   ]
  },
  {
   "cell_type": "code",
   "execution_count": 19,
   "id": "0624f071",
   "metadata": {},
   "outputs": [
    {
     "name": "stdout",
     "output_type": "stream",
     "text": [
      "Discount rate: 8.8975%\n"
     ]
    }
   ],
   "source": [
    "import importlib\n",
    "import simple_discount_curve\n",
    "importlib.reload(simple_discount_curve)\n",
    "from simple_discount_curve import get_discount_rate, get_discount_factor\n",
    "\n",
    "rate_basket = get_discount_rate(expiry_basket)\n",
    "print(f\"Discount rate: {rate_basket:.4%}\")"
   ]
  },
  {
   "cell_type": "markdown",
   "id": "b98cbbbf",
   "metadata": {},
   "source": [
    "### Valuation"
   ]
  },
  {
   "cell_type": "code",
   "execution_count": 60,
   "id": "218e1e87",
   "metadata": {},
   "outputs": [
    {
     "name": "stdout",
     "output_type": "stream",
     "text": [
      "Basket Option Price: 9.136523134441145\n"
     ]
    }
   ],
   "source": [
    "# Instantiate and price the option\n",
    "basket_option = BasketCallOption(tickers=tickers_basket, spot_prices=spot_basket, weights=weights, strike=strike_basket, expiry=expiry_basket, rate=rate_basket, vol=vol_basket, corr_matrix=basket_corr, simulations=10000)\n",
    "print(f\"Basket Option Price: {basket_option.price()}\")\n"
   ]
  },
  {
   "cell_type": "markdown",
   "id": "082b944a",
   "metadata": {},
   "source": [
    "### Hedging Parameters"
   ]
  },
  {
   "cell_type": "code",
   "execution_count": 62,
   "id": "8cee0baa",
   "metadata": {},
   "outputs": [
    {
     "name": "stdout",
     "output_type": "stream",
     "text": [
      "Greeks for Basket Option:\n",
      "delta: [np.float64(-5.239013872917564), np.float64(3.2317989915751077), np.float64(-0.31027731986723595), np.float64(0.6093577405529516)]\n",
      "gamma: [np.float64(-3698.1662105306686), np.float64(-6400.1723464519955), np.float64(-361.62464123702165), np.float64(921.1266710041243)]\n",
      "vega: [np.float64(-9.470850651493734), np.float64(5.2754250327903485), np.float64(-13.68718064580694), np.float64(10.199610373659063)]\n",
      "theta: 84.93626392159403\n",
      "rho: 203.4170758319931\n"
     ]
    }
   ],
   "source": [
    "# Use HedgingCalculator to get delta, gamma, vega, theta, rho\n",
    "hc = HedgingCalculator()\n",
    "greeks_basket = hc.get_all_greeks(basket_option, method=\"fd\")\n",
    "\n",
    "print(\"Greeks for Basket Option:\")\n",
    "for greek, value in greeks_basket.items():\n",
    "    print(f\"{greek}: {value}\")"
   ]
  },
  {
   "cell_type": "markdown",
   "id": "ad0d8309",
   "metadata": {},
   "source": [
    "### Hedging Strategy"
   ]
  },
  {
   "cell_type": "markdown",
   "id": "096b089b",
   "metadata": {},
   "source": [
    "## Portfolio Valuation and Hedging Summary"
   ]
  },
  {
   "cell_type": "code",
   "execution_count": null,
   "id": "c1d8ac63",
   "metadata": {},
   "outputs": [],
   "source": [
    "# Collect all option prices and Greek exposures into summary DataFrame\n",
    "# Sum portfolio value and Greek sensitivities"
   ]
  },
  {
   "cell_type": "markdown",
   "id": "4a08fc10",
   "metadata": {},
   "source": [
    "## Design and Model Justification"
   ]
  },
  {
   "cell_type": "markdown",
   "id": "ff572b8b",
   "metadata": {},
   "source": [
    "- Why Black-Scholes, Binomial Tree, and Monte Carlo were chosen\n",
    "- Why finite difference for Greeks\n",
    "- Why the bump sizes used\n",
    "- Accuracy vs flexibility trade-offs"
   ]
  },
  {
   "cell_type": "markdown",
   "id": "f438573d",
   "metadata": {},
   "source": [
    "## Conclusion"
   ]
  },
  {
   "cell_type": "markdown",
   "id": "2a8defe1",
   "metadata": {},
   "source": [
    "- Modular, OOP-driven pricing system\n",
    "- Accurate pricing and hedging of diverse OTC trades\n",
    "- Integration of real market data and theory"
   ]
  }
 ],
 "metadata": {
  "kernelspec": {
   "display_name": "Python 3",
   "language": "python",
   "name": "python3"
  },
  "language_info": {
   "codemirror_mode": {
    "name": "ipython",
    "version": 3
   },
   "file_extension": ".py",
   "mimetype": "text/x-python",
   "name": "python",
   "nbconvert_exporter": "python",
   "pygments_lexer": "ipython3",
   "version": "3.12.1"
  }
 },
 "nbformat": 4,
 "nbformat_minor": 5
}
