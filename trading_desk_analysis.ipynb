{
 "cells": [
  {
   "cell_type": "markdown",
   "id": "5eda2ed2",
   "metadata": {},
   "source": [
    "# FINM3422 Coding Project 2: OTC Derivatives Pricing & Hedging"
   ]
  },
  {
   "cell_type": "markdown",
   "id": "0c2f34e2",
   "metadata": {},
   "source": [
    "This notebook implements an object-oriented solution to price four OTC derivative trades and calculate portfolio-level hedging parameters. All data and valuations are as of close of market on **16 May 2025**. (update this text, add anything else? Introduce task)"
   ]
  },
  {
   "cell_type": "markdown",
   "id": "259f6d07",
   "metadata": {},
   "source": [
    "## Imports and Setup"
   ]
  },
  {
   "cell_type": "code",
   "execution_count": null,
   "id": "120093e1",
   "metadata": {},
   "outputs": [],
   "source": [
    "from Option_Classes import EuropeanOption\n",
    "from Option_Classes import AmericanPutOption\n",
    "from Option_Classes import UpAndInCallOption\n",
    "from Option_Classes import BasketCallOption\n",
    "from Discount_Rate import get_discount_factor\n",
    "from Discount_Rate import get_zero_rate\n",
    "from Hedging_Parameters import HedgingCalculator\n",
    "from market_data import get_close_price\n",
    "from market_data import get_volatility\n",
    "from market_data import get_correlation_matrix\n",
    "from market_data import get_all_market_data\n",
    "import pandas as pd\n",
    "from datetime import datetime, timedelta\n",
    "import yfinance as yf\n",
    "import importlib"
   ]
  },
  {
   "cell_type": "markdown",
   "id": "071b11b1",
   "metadata": {},
   "source": [
    "## Market Data Inputs"
   ]
  },
  {
   "cell_type": "code",
   "execution_count": null,
   "id": "0d965b5f",
   "metadata": {},
   "outputs": [],
   "source": [
    "tickers = [\"BHP.AX\", \"CBA.AX\", \"WES.AX\", \"CSL.AX\", \"WDS.AX\", \"MQG.AX\"]\n",
    "market_data = get_all_market_data(tickers, date=\"2025-05-16\", window=60)\n",
    "\n",
    "spot = market_data[\"spot\"]\n",
    "vol = market_data[\"vol\"]\n",
    "corr = market_data[\"corr\"]\n",
    "\n",
    "## broken asf atm"
   ]
  },
  {
   "cell_type": "markdown",
   "id": "5fb52ce8",
   "metadata": {},
   "source": [
    "## Discount Curve Construction"
   ]
  },
  {
   "cell_type": "markdown",
   "id": "26737293",
   "metadata": {},
   "source": [
    "do we build discount curve in the .ipynb file, or can we just produce the discount rates in the .py file?"
   ]
  },
  {
   "cell_type": "code",
   "execution_count": null,
   "id": "41067c6e",
   "metadata": {},
   "outputs": [],
   "source": [
    "\n",
    "# This module builds a discount curve from bank bills and bonds, and provides functions to retrieve discount factors and zero rates\n",
    "from instrument_classes import Bank_bill, Bond, Portfolio\n",
    "from curve_classes_and_functions import YieldCurve\n",
    "\n",
    "# Builds bootstrapped discount curve from bank bills and bonds. \n",
    "\n",
    "def build_discount_curve():\n",
    "    # Step 1: Create instruments. Data pulled from Bloomberg. \n",
    "    bill1 = Bank_bill(face_value=100, maturity=0.25, price=98.5)\n",
    "    bill2 = Bank_bill(face_value=100, maturity=0.5, price=97.3)\n",
    "    bill1.set_cash_flows()\n",
    "    bill2.set_cash_flows()\n",
    "\n",
    "    bond1 = Bond(face_value=100, maturity=1.0, coupon=0.04, frequency=4, price=99.2)\n",
    "    bond2 = Bond(face_value=100, maturity=2.0, coupon=0.045, frequency=4, price=98.7)\n",
    "    bond3 = Bond(face_value=100, maturity=3.0, coupon=0.05, frequency=4, price=97.0)\n",
    "    bond1.set_cash_flows()\n",
    "    bond2.set_cash_flows()\n",
    "    bond3.set_cash_flows()\n",
    "\n",
    "    # Step 2: Add to portfolio\n",
    "    portfolio = Portfolio()\n",
    "    portfolio.add_bank_bill(bill1)\n",
    "    portfolio.add_bank_bill(bill2)\n",
    "    portfolio.add_bond(bond1)\n",
    "    portfolio.add_bond(bond2)\n",
    "    portfolio.add_bond(bond3)\n",
    "    portfolio.set_cash_flows()\n",
    "\n",
    "    # Step 3: Bootstrap yield curve\n",
    "    yc = YieldCurve()\n",
    "    yc.set_constituent_portfolio(portfolio)\n",
    "    yc.bootstrap()\n",
    "\n",
    "    return yc\n",
    "\n",
    "# Retrieves the discount factor for a given maturity from the bootstrapped yield curve\n",
    "def get_discount_factor(yield_curve, maturity):\n",
    "    return yield_curve.get_discount_factor(maturity)\n",
    "\n",
    "# Returns the interpolated zero rate for a given maturity from the yield curve\n",
    "def get_zero_rate(yield_curve, maturity):\n",
    "    return yield_curve.get_zero_rate(maturity)\n",
    "\n"
   ]
  },
  {
   "cell_type": "markdown",
   "id": "02ce7c57",
   "metadata": {},
   "source": [
    "## Trade 1: BHP European Call"
   ]
  },
  {
   "cell_type": "markdown",
   "id": "36eb0cef",
   "metadata": {},
   "source": [
    "description of the trade"
   ]
  },
  {
   "cell_type": "markdown",
   "id": "b28b120e",
   "metadata": {},
   "source": [
    "### Market Data"
   ]
  },
  {
   "cell_type": "code",
   "execution_count": 141,
   "id": "de89ad04",
   "metadata": {},
   "outputs": [
    {
     "name": "stderr",
     "output_type": "stream",
     "text": [
      "[*********************100%***********************]  1 of 1 completed"
     ]
    },
    {
     "name": "stderr",
     "output_type": "stream",
     "text": [
      "\n",
      "[*********************100%***********************]  1 of 1 completed\n",
      "[*********************100%***********************]  1 of 1 completed\n"
     ]
    },
    {
     "name": "stdout",
     "output_type": "stream",
     "text": [
      "39.720001220703125\n",
      "Ticker\n",
      "BHP.AX    0.227511\n",
      "dtype: float64\n"
     ]
    },
    {
     "name": "stderr",
     "output_type": "stream",
     "text": [
      "[*********************100%***********************]  1 of 1 completed"
     ]
    },
    {
     "name": "stdout",
     "output_type": "stream",
     "text": [
      "Spot Price: 39.720001220703125, Volatility: Ticker\n",
      "BHP.AX    0.296738\n",
      "dtype: float64, Strike Price: 38.925601196289065, Expiry: 2.334246575342466 years\n"
     ]
    },
    {
     "name": "stderr",
     "output_type": "stream",
     "text": [
      "\n"
     ]
    }
   ],
   "source": [
    "# Extract relevant data for option pricing and hedging\n",
    "importlib.reload(market_data)\n",
    "from market_data import get_close_price, get_volatility, get_correlation_matrix, get_all_market_data\n",
    "\n",
    "\n",
    "\n",
    "ticker = \"BHP.AX\"\n",
    "date = \"2025-05-16\"\n",
    "\n",
    "spot_bhp = get_close_price(ticker, date) #good\n",
    "vol_bhp = get_volatility(ticker, end_date=date, window=60) #good\n",
    "strike_bhp = 0.98 * spot_bhp\n",
    "\n",
    "def time_to_expiry(start, end):\n",
    "    return (end - start).days / 365.0\n",
    "\n",
    "expiry_bhp = time_to_expiry(datetime(2025, 5, 16), datetime(2027, 9, 15)) # 2.33 Years\n",
    "\n",
    "\n",
    "\n",
    "print(f\"Spot Price: {spot_bhp}, Volatility: {vol_bhp}, Strike Price: {strike_bhp}, Expiry: {expiry_bhp} years\")"
   ]
  },
  {
   "cell_type": "markdown",
   "id": "3a347db2",
   "metadata": {},
   "source": [
    "### Discount Rate"
   ]
  },
  {
   "cell_type": "code",
   "execution_count": 142,
   "id": "ec5fa399",
   "metadata": {},
   "outputs": [
    {
     "ename": "TypeError",
     "evalue": "get_zero_rate() missing 1 required positional argument: 'maturity'",
     "output_type": "error",
     "traceback": [
      "\u001b[31m---------------------------------------------------------------------------\u001b[39m",
      "\u001b[31mTypeError\u001b[39m                                 Traceback (most recent call last)",
      "\u001b[36mCell\u001b[39m\u001b[36m \u001b[39m\u001b[32mIn[142]\u001b[39m\u001b[32m, line 2\u001b[39m\n\u001b[32m      1\u001b[39m \u001b[38;5;66;03m# Given the time to expiry, find the discount factor and zero rate\u001b[39;00m\n\u001b[32m----> \u001b[39m\u001b[32m2\u001b[39m rate_bhp = \u001b[43mget_zero_rate\u001b[49m\u001b[43m(\u001b[49m\u001b[43mexpiry_bhp\u001b[49m\u001b[43m)\u001b[49m\n\u001b[32m      4\u001b[39m \u001b[38;5;28mprint\u001b[39m(\u001b[33mf\u001b[39m\u001b[33m\"\u001b[39m\u001b[33mZero Rate for BHP: \u001b[39m\u001b[38;5;132;01m{\u001b[39;00mrate_bhp\u001b[38;5;132;01m}\u001b[39;00m\u001b[33m\"\u001b[39m)\n",
      "\u001b[31mTypeError\u001b[39m: get_zero_rate() missing 1 required positional argument: 'maturity'"
     ]
    }
   ],
   "source": [
    "# Given the time to expiry, find the discount factor and zero rate\n",
    "rate_bhp = get_zero_rate(expiry_bhp)\n",
    "\n",
    "print(f\"Zero Rate for BHP: {rate_bhp}\")\n"
   ]
  },
  {
   "cell_type": "markdown",
   "id": "9bbbf70b",
   "metadata": {},
   "source": [
    "### Option Valuation"
   ]
  },
  {
   "cell_type": "code",
   "execution_count": null,
   "id": "d61fe9f1",
   "metadata": {},
   "outputs": [],
   "source": [
    "# Instantiate and price the option\n",
    "bhp_option = EuropeanOption(ticker=ticker,spot=spot_bhp, strike=strike_bhp, expiry=expiry_bhp, rate=rate_bhp, vol=vol_bhp, option_type=\"call\")\n",
    "\n",
    "print(f\"Option Price: {bhp_option.price()}\")\n"
   ]
  },
  {
   "cell_type": "markdown",
   "id": "2b1bbe3a",
   "metadata": {},
   "source": [
    "### Hedging Parameters"
   ]
  },
  {
   "cell_type": "code",
   "execution_count": null,
   "id": "05a8c1fa",
   "metadata": {},
   "outputs": [],
   "source": [
    "# Use HedgingCalculator to get delta, gamma, vega, theta, rho\n",
    "\n",
    "hc = HedgingCalculator()\n",
    "greeks_bhp = hc.get_all_greeks(bhp_option, method=\"fd\")\n",
    "\n",
    "print(\"Greeks for BHP Option:\")\n",
    "for greek, value in greeks_bhp.items():\n",
    "    print(f\"{greek}: {value}\")"
   ]
  },
  {
   "cell_type": "markdown",
   "id": "106e0033",
   "metadata": {},
   "source": [
    "### Hedging Strategy"
   ]
  },
  {
   "cell_type": "markdown",
   "id": "e1fa0293",
   "metadata": {},
   "source": [
    "## Trade 2: CBA American Put"
   ]
  },
  {
   "cell_type": "markdown",
   "id": "b638201c",
   "metadata": {},
   "source": [
    "description of the trade"
   ]
  },
  {
   "cell_type": "markdown",
   "id": "89c5f547",
   "metadata": {},
   "source": [
    "### Market Data"
   ]
  },
  {
   "cell_type": "code",
   "execution_count": null,
   "id": "0e920bf7",
   "metadata": {},
   "outputs": [],
   "source": [
    "# spot = ..., vol = ..., strike = ..., expiry = ..., rate = ..."
   ]
  },
  {
   "cell_type": "markdown",
   "id": "e2037389",
   "metadata": {},
   "source": [
    "### Discount Rate"
   ]
  },
  {
   "cell_type": "code",
   "execution_count": null,
   "id": "e97a13ab",
   "metadata": {},
   "outputs": [],
   "source": [
    "# rate = yield_curve.get_zero_rate(...)"
   ]
  },
  {
   "cell_type": "markdown",
   "id": "2a0d4213",
   "metadata": {},
   "source": [
    "### Valuation Method"
   ]
  },
  {
   "cell_type": "code",
   "execution_count": null,
   "id": "91666e0a",
   "metadata": {},
   "outputs": [],
   "source": [
    "# Instantiate and price the option"
   ]
  },
  {
   "cell_type": "markdown",
   "id": "6d88f012",
   "metadata": {},
   "source": [
    "### Hedging Parameters"
   ]
  },
  {
   "cell_type": "code",
   "execution_count": null,
   "id": "e6dfbfe0",
   "metadata": {},
   "outputs": [],
   "source": [
    "# Use HedgingCalculator to get delta, gamma, vega, theta, rho"
   ]
  },
  {
   "cell_type": "markdown",
   "id": "509fda26",
   "metadata": {},
   "source": [
    "### Hedging Strategy"
   ]
  },
  {
   "cell_type": "markdown",
   "id": "19c4f6ed",
   "metadata": {},
   "source": [
    "## Trade 3: WES Barrier Call"
   ]
  },
  {
   "cell_type": "markdown",
   "id": "157617df",
   "metadata": {},
   "source": [
    "description of the trade"
   ]
  },
  {
   "cell_type": "markdown",
   "id": "63726921",
   "metadata": {},
   "source": [
    "### Market Data"
   ]
  },
  {
   "cell_type": "code",
   "execution_count": null,
   "id": "7b4846eb",
   "metadata": {},
   "outputs": [],
   "source": [
    "# spot = ..., vol = ..., strike = ..., expiry = ..., rate = ..."
   ]
  },
  {
   "cell_type": "markdown",
   "id": "656bafbd",
   "metadata": {},
   "source": [
    "### Discount Rate"
   ]
  },
  {
   "cell_type": "code",
   "execution_count": null,
   "id": "aba81729",
   "metadata": {},
   "outputs": [],
   "source": [
    "# rate = yield_curve.get_zero_rate(...)"
   ]
  },
  {
   "cell_type": "markdown",
   "id": "1013acc0",
   "metadata": {},
   "source": [
    "### Valuation Method"
   ]
  },
  {
   "cell_type": "code",
   "execution_count": null,
   "id": "b67177dc",
   "metadata": {},
   "outputs": [],
   "source": [
    "# Instantiate and price the option"
   ]
  },
  {
   "cell_type": "markdown",
   "id": "2c4f8b3a",
   "metadata": {},
   "source": [
    "### Hedging Parameters"
   ]
  },
  {
   "cell_type": "code",
   "execution_count": null,
   "id": "9a3fc551",
   "metadata": {},
   "outputs": [],
   "source": [
    "# Use HedgingCalculator to get delta, gamma, vega, theta, rho"
   ]
  },
  {
   "cell_type": "markdown",
   "id": "6c9ee4a1",
   "metadata": {},
   "source": [
    "### Hedging Strategy"
   ]
  },
  {
   "cell_type": "markdown",
   "id": "db474794",
   "metadata": {},
   "source": [
    "## Trade 4: Basket Call"
   ]
  },
  {
   "cell_type": "markdown",
   "id": "4b155e18",
   "metadata": {},
   "source": [
    "description of the trade"
   ]
  },
  {
   "cell_type": "markdown",
   "id": "adc32fcc",
   "metadata": {},
   "source": [
    "### Market Data"
   ]
  },
  {
   "cell_type": "code",
   "execution_count": null,
   "id": "eda11369",
   "metadata": {},
   "outputs": [],
   "source": [
    "# spot = ..., vol = ..., strike = ..., expiry = ..., rate = ..."
   ]
  },
  {
   "cell_type": "markdown",
   "id": "de807f25",
   "metadata": {},
   "source": [
    "### Discount Rate"
   ]
  },
  {
   "cell_type": "code",
   "execution_count": null,
   "id": "0624f071",
   "metadata": {},
   "outputs": [],
   "source": [
    "# rate = yield_curve.get_zero_rate(...)"
   ]
  },
  {
   "cell_type": "markdown",
   "id": "b98cbbbf",
   "metadata": {},
   "source": [
    "### Valuation Method"
   ]
  },
  {
   "cell_type": "code",
   "execution_count": null,
   "id": "218e1e87",
   "metadata": {},
   "outputs": [],
   "source": [
    "# Instantiate and price the option"
   ]
  },
  {
   "cell_type": "markdown",
   "id": "082b944a",
   "metadata": {},
   "source": [
    "### Hedging Parameters"
   ]
  },
  {
   "cell_type": "code",
   "execution_count": null,
   "id": "8cee0baa",
   "metadata": {},
   "outputs": [],
   "source": [
    "# Use HedgingCalculator to get delta, gamma, vega, theta, rho"
   ]
  },
  {
   "cell_type": "markdown",
   "id": "ad0d8309",
   "metadata": {},
   "source": [
    "### Hedging Strategy"
   ]
  },
  {
   "cell_type": "markdown",
   "id": "096b089b",
   "metadata": {},
   "source": [
    "## Portfolio Valuation and Hedging Summary"
   ]
  },
  {
   "cell_type": "code",
   "execution_count": null,
   "id": "c1d8ac63",
   "metadata": {},
   "outputs": [],
   "source": [
    "# Collect all option prices and Greek exposures into summary DataFrame\n",
    "# Sum portfolio value and Greek sensitivities"
   ]
  },
  {
   "cell_type": "markdown",
   "id": "4a08fc10",
   "metadata": {},
   "source": [
    "## Design and Model Justification"
   ]
  },
  {
   "cell_type": "markdown",
   "id": "ff572b8b",
   "metadata": {},
   "source": [
    "- Why Black-Scholes, Binomial Tree, and Monte Carlo were chosen\n",
    "- Why finite difference for Greeks\n",
    "- Why the bump sizes used\n",
    "- Accuracy vs flexibility trade-offs"
   ]
  },
  {
   "cell_type": "markdown",
   "id": "f438573d",
   "metadata": {},
   "source": [
    "## Conclusion"
   ]
  },
  {
   "cell_type": "markdown",
   "id": "2a8defe1",
   "metadata": {},
   "source": [
    "- Modular, OOP-driven pricing system\n",
    "- Accurate pricing and hedging of diverse OTC trades\n",
    "- Integration of real market data and theory"
   ]
  }
 ],
 "metadata": {
  "kernelspec": {
   "display_name": "Python 3",
   "language": "python",
   "name": "python3"
  },
  "language_info": {
   "codemirror_mode": {
    "name": "ipython",
    "version": 3
   },
   "file_extension": ".py",
   "mimetype": "text/x-python",
   "name": "python",
   "nbconvert_exporter": "python",
   "pygments_lexer": "ipython3",
   "version": "3.12.1"
  }
 },
 "nbformat": 4,
 "nbformat_minor": 5
}
